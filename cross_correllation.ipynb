{
 "cells": [
  {
   "cell_type": "code",
   "execution_count": 1,
   "metadata": {},
   "outputs": [],
   "source": [
    "from __future__ import print_function\n",
    "from scipy.io.wavfile import read as wavread\n",
    "from scipy.signal import find_peaks\n",
    "import librosa, os, numpy as np\n",
    "from matplotlib import pyplot as plt\n",
    "from IPython.display import display\n",
    "from ipywidgets import interact, interactive, fixed, interact_manual\n",
    "import ipywidgets as widgets"
   ]
  },
  {
   "cell_type": "code",
   "execution_count": 4,
   "metadata": {},
   "outputs": [
    {
     "data": {
      "application/vnd.jupyter.widget-view+json": {
       "model_id": "773e1f8184ed4654bdf2b3f147c14d25",
       "version_major": 2,
       "version_minor": 0
      },
      "text/plain": [
       "interactive(children=(Dropdown(description='path', options={'0': 'E:\\\\Dev\\\\acoustic-localization\\\\data\\\\0', '1…"
      ]
     },
     "metadata": {},
     "output_type": "display_data"
    }
   ],
   "source": [
    "data = []\n",
    "srs = []\n",
    "offsets = []\n",
    "onset_times = []\n",
    "\n",
    "def getwindow(center, windowsize):\n",
    "    if type(windowsize) is int:\n",
    "        return np.arange(center-windowsize, center+windowsize)\n",
    "    else:\n",
    "        return np.arange(center+windowsize[0], center+windowsize[1])\n",
    "    \n",
    "def tts(t, sr=44100):\n",
    "        return [int(ts*sr) for ts in t]  if isinstance(t, (tuple, list)) else int(t*sr)\n",
    "\n",
    "def stt(sample, sr=44100):\n",
    "    return [s/float(sr) for s in sample] if isinstance(sample, (tuple, list)) else sample/float(sr) \n",
    "\n",
    "def loadfiles(path=\"./data/1_aligned\", clip_intro=0):\n",
    "    global data,srs, offsets, onset_times\n",
    "    data = []\n",
    "    srs = []\n",
    "    offsets = []\n",
    "    onset_times = []\n",
    "    datadir = os.path.abspath(path)\n",
    "    print(\"Using recordings from %s\" % (datadir))\n",
    "    \n",
    "    data=[]\n",
    "    srs=[]\n",
    "    for file in os.listdir(datadir):\n",
    "        if file.endswith('.wav'):\n",
    "            (sr,dat) = wavread(os.path.join(datadir,file))\n",
    "            if len(dat.shape) > 1:\n",
    "                dat = dat[:,0]\n",
    "            if clip_intro > 0:\n",
    "                dat = dat[tts(clip_intro):]\n",
    "            dat = dat.astype(np.float32)/np.max(dat)\n",
    "            data.append(dat)\n",
    "            srs.append(sr)\n",
    "            onset_times.append(librosa.onset.onset_detect(dat,units=\"samples\",sr=sr, backtrack=False))\n",
    "            offsets.append(0)\n",
    "            print(\"loaded %s\" % file)\n",
    "\n",
    "datafolder = os.path.abspath(\"./data\")\n",
    "options = {run:os.path.join(datafolder,run) for run in os.listdir(datafolder) if os.path.isdir(os.path.join(datafolder,run)) }\n",
    "loader=interactive(loadfiles,path=options, clip_intro=(0,65,0.5)) \n",
    "display(loader)"
   ]
  },
  {
   "cell_type": "code",
   "execution_count": 33,
   "metadata": {
    "jupyter": {
     "source_hidden": true
    }
   },
   "outputs": [],
   "source": [
    "lines = []\n",
    "ref = data[0]\n",
    "    \n",
    "def getwindow(center, windowsize):\n",
    "    return np.arange(center-windowsize, center+windowsize)\n",
    "\n",
    "def tts(t, sr=44100):\n",
    "        return int(t*sr)\n",
    "\n",
    "def stt(sample, sr=44100):\n",
    "    return sample/float(sr)\n",
    "\n",
    "def onset_ex(which=0,windowsize=1.0, center=5.0, back_track=False):\n",
    "    global onset_times\n",
    "    ww = getwindow(tts(center),tts(windowsize))\n",
    "    clip = data[which][ww]\n",
    "    onsets = librosa.onset.onset_detect(data[which],units=\"samples\",sr=srs[which],\n",
    "                                             backtrack=back_track)\n",
    "    print(\"plot centered at %f (%d, %d to %d)\" %\n",
    "          (center,tts(center),tts(center-windowsize), tts(center+windowsize)))\n",
    "    plt.plot(np.linspace(stt(ww[0]), stt(ww[-1]), len(clip)),clip)\n",
    "    ost_in_window = onsets[np.logical_and(onsets >= ww[0], onsets <= ww[-1])]\n",
    "    plt.vlines(stt(ost_in_window), -1,1, 'r')\n",
    "    plt.ylim(-1,1)\n",
    "    print(\"avg onset rate is %fHz\" % (1/stt(np.mean(np.diff(ost_in_window)))))\n",
    "    onset_times = ost_in_window"
   ]
  },
  {
   "cell_type": "code",
   "execution_count": 34,
   "metadata": {
    "collapsed": true,
    "jupyter": {
     "outputs_hidden": true,
     "source_hidden": true
    }
   },
   "outputs": [
    {
     "data": {
      "application/vnd.jupyter.widget-view+json": {
       "model_id": "e2deade8e4794365a9c30e6ac90b8079",
       "version_major": 2,
       "version_minor": 0
      },
      "text/plain": [
       "interactive(children=(Dropdown(description='which', index=1, options={'1': -1, '2': 0}, value=0), FloatSlider(…"
      ]
     },
     "metadata": {},
     "output_type": "display_data"
    }
   ],
   "source": [
    "options = {b:a-1 for a,b in enumerate([str(a) for a in np.arange(1,len(data)+1)])}\n",
    "onset_example = interactive(onset_ex, {'manual':False}, which=options,\n",
    "                            windowsize=(.1,10,.05),\n",
    "                            center=(0.250,stt(min([len(a) for a in data])), 0.050),\n",
    "                            back_track=False)\n",
    "sl1 = onset_example.children[1]\n",
    "sl2 = onset_example.children[2]\n",
    "sl2.continuous_update=False\n",
    "def update_center_slider(*args):\n",
    "    sl2.min = max(sl2.value-3*sl1.value, sl1.value)\n",
    "    sl2.max = sl2.value+3*sl1.value\n",
    "sl2.observe(update_center_slider, 'value')\n",
    "sl1.observe(update_center_slider, 'value')\n",
    "onset_example"
   ]
  },
  {
   "cell_type": "code",
   "execution_count": 17,
   "metadata": {},
   "outputs": [
    {
     "data": {
      "application/vnd.jupyter.widget-view+json": {
       "model_id": "b83964c7de5e448cb2d8f5a36b723b72",
       "version_major": 2,
       "version_minor": 0
      },
      "text/plain": [
       "HBox(children=(VBox(children=(Dropdown(description='Refernce wav:', options={'1': 0, '2': 1, '3': 2, '4': 3}, …"
      ]
     },
     "metadata": {},
     "output_type": "display_data"
    },
    {
     "data": {
      "application/vnd.jupyter.widget-view+json": {
       "model_id": "5fa5230257a7483dba932f4fd38da595",
       "version_major": 2,
       "version_minor": 0
      },
      "text/plain": [
       "Output()"
      ]
     },
     "metadata": {},
     "output_type": "display_data"
    }
   ],
   "source": [
    "ref = 0\n",
    "lines = []\n",
    "center = 1\n",
    "scale = 1\n",
    "x_ax = []\n",
    "y_ax = []\n",
    "\n",
    "def do_settings(reference, lns, cs, sc, yr, oc, pr, **kwargs):\n",
    "    global ref, lines, center, scale, x_ax, y_ax\n",
    "    ref = reference\n",
    "    lines = lns\n",
    "    center = cs\n",
    "    scale = sc\n",
    "    x_ax = [cs-sc, cs+sc]\n",
    "    y_ax = yr\n",
    "    plot(plot_onsets=oc, plot_ref=pr)\n",
    "\n",
    "def plot(plot_onsets=True, plot_ref=True, **kwargs):\n",
    "    ww = np.arange(tts(x_ax[0]), tts(x_ax[1]))\n",
    "    f = plt.figure(figsize = (40,40))\n",
    "    rc = np.ceil(np.sqrt(len(data)))\n",
    "    for ln in lines:\n",
    "        plt.subplot(rc,rc,ln+1)\n",
    "        ofs = tts(offsets[ln])\n",
    "        clip = data[ln][ww+ofs]\n",
    "        plt.plot(np.linspace(stt(ww[0]),stt(ww[-1]),len(clip)),clip)\n",
    "        if plot_onsets:\n",
    "            plt.vlines(stt(onset_times[ref]), -1, 1, 'r')\n",
    "        if plot_ref:\n",
    "            rr = data[ref][ww + tts(offsets[ref])] \n",
    "            plt.plot(np.linspace(stt(ww[0]),stt(ww[-1]),len(rr)),rr, 'k', alpha=0.7)\n",
    "        plt.xlim(x_ax)\n",
    "        plt.ylim(y_ax)\n",
    "\n",
    "ref_select = widgets.Dropdown(\n",
    "    options={b:a for a,b in enumerate([str(a) for a in np.arange(1,len(data)+1)])},\n",
    "    value=0,\n",
    "    description='Refernce wav:',\n",
    "    disabled=False)\n",
    "lines_select = widgets.SelectMultiple(\n",
    "    options={b:a for a,b in enumerate([str(a) for a in np.arange(1,len(data)+1)])},\n",
    "    value=[0],\n",
    "    description='Wavs to plot',\n",
    "    disabled=False)\n",
    "center_slider = widgets.FloatSlider(\n",
    "    value=1,\n",
    "    min=0,\n",
    "    max=10.0,\n",
    "    step=0.1,\n",
    "    description='Plot center:',\n",
    "    disabled=False,\n",
    "    continuous_update=False,\n",
    "    orientation='horizontal',\n",
    "    readout=True,\n",
    "    readout_format='.4f')\n",
    "sc_slider = widgets.FloatLogSlider(\n",
    "    value=1,\n",
    "    base=2,\n",
    "    min=-6, # max exponent of base\n",
    "    max=7, # min exponent of base\n",
    "    step=0.2, # exponent step\n",
    "    description='Window size')\n",
    "y_range = widgets.FloatRangeSlider(\n",
    "    value=[-1, 1],\n",
    "    min=-1,\n",
    "    max=1,\n",
    "    step=0.05,\n",
    "    description='Window range:',\n",
    "    disabled=False,\n",
    "    continuous_update=True,\n",
    "    orientation='vertical',\n",
    "    readout=True,\n",
    "    readout_format='.4f')\n",
    "onset_cb = widgets.Checkbox(\n",
    "    value=True,\n",
    "    description='Plot Onsets',\n",
    "    disabled=False,\n",
    "    indent=False)\n",
    "overlay_cb = widgets.Checkbox(\n",
    "    value=True,\n",
    "    description='Plot Ref',\n",
    "    disabled=False,\n",
    "    indent=False)\n",
    "replot_button = widgets.ToggleButton(\n",
    "    value=False,\n",
    "    description='replot',\n",
    "    disabled=False,\n",
    "    button_style='', # 'success', 'info', 'warning', 'danger' or ''\n",
    "    tooltip='Description',\n",
    "    icon='check' # (FontAwesome names without the `fa-` prefix)\n",
    ")\n",
    "\n",
    "\n",
    "\n",
    "def update_center_slider(*args):\n",
    "    center_slider.min = max(center_slider.value - sc_slider.value*3, sc_slider.value)\n",
    "    center_slider.max = min(center_slider.value + sc_slider.value*3, stt(len(data[ref_select.value]))-sc_slider.value)\n",
    "#     center_slider.max = center_slider.value + sc_slider.value*3\n",
    "    center_slider.step = sc_slider.value/4.0\n",
    "\n",
    "lb = widgets.VBox([ref_select, lines_select])\n",
    "rb = widgets.VBox([center_slider, sc_slider, widgets.HBox([widgets.VBox([onset_cb, overlay_cb]), replot_button])])\n",
    "# rb.layout.width = '50%'\n",
    "y_range.layout.width='100px'\n",
    "ui = widgets.HBox([lb, rb, y_range])\n",
    "ui.layout.width='100%'\n",
    "out = widgets.interactive_output(do_settings, {'reference':ref_select,\n",
    "                                               'lns':lines_select,\n",
    "                                               'cs':center_slider,\n",
    "                                               'sc':sc_slider,\n",
    "                                               'yr':y_range,\n",
    "                                               'oc':onset_cb,\n",
    "                                               'pr':overlay_cb,\n",
    "                                               'rp':replot_button\n",
    "                                              })\n",
    "\n",
    "sc_slider.observe(update_center_slider,'value')\n",
    "center_slider.observe(update_center_slider,'value')\n",
    "\n",
    "display(ui,out)"
   ]
  },
  {
   "cell_type": "code",
   "execution_count": 18,
   "metadata": {},
   "outputs": [
    {
     "data": {
      "application/vnd.jupyter.widget-view+json": {
       "model_id": "38ddcf2482b34df28deb93673ca2b6ab",
       "version_major": 2,
       "version_minor": 0
      },
      "text/plain": [
       "VBox(children=(FloatSlider(value=-0.051605118237771294, continuous_update=False, description='offset 1', max=0…"
      ]
     },
     "metadata": {},
     "output_type": "display_data"
    },
    {
     "data": {
      "application/vnd.jupyter.widget-view+json": {
       "model_id": "26c4135af17e4a23b4b04de5cc7feade",
       "version_major": 2,
       "version_minor": 0
      },
      "text/plain": [
       "Output()"
      ]
     },
     "metadata": {},
     "output_type": "display_data"
    }
   ],
   "source": [
    "\n",
    "offs = widgets.VBox([widgets.FloatSlider(value=offsets[k], min=-0.1, max=0.1, step=0.001, readout_format='.5f', description=\"offset %d\"%(k+1), continuous_update=False) for k in range(len(data))])\n",
    "\n",
    "def update_offsets(*args):\n",
    "    global offsets\n",
    "    for ix, slider in enumerate(offs.children):\n",
    "        offsets[ix] = slider.value\n",
    "        slider.min = slider.value-0.1\n",
    "        slider.max = slider.value+0.1\n",
    "\n",
    "d_map = {str(k):offs.children[k] for k in range(len(offs.children))}\n",
    "d_map.update({'plot_onsets':fixed(True), 'plot_ref':fixed(True)})\n",
    "out2 = widgets.interactive_output(plot, d_map)\n",
    "for slider in offs.children:\n",
    "    slider.observe(update_offsets, 'value')\n",
    "display(offs, out2)"
   ]
  },
  {
   "cell_type": "code",
   "execution_count": 19,
   "metadata": {},
   "outputs": [
    {
     "data": {
      "application/vnd.jupyter.widget-view+json": {
       "model_id": "8ec9e51aa1654dd58981fa8a7bd6494c",
       "version_major": 2,
       "version_minor": 0
      },
      "text/plain": [
       "FloatRangeSlider(value=(-0.0625, 0.0625), description='Window range:', max=0.25, min=-0.25, readout_format='.4…"
      ]
     },
     "metadata": {},
     "output_type": "display_data"
    },
    {
     "data": {
      "application/vnd.jupyter.widget-view+json": {
       "model_id": "133c9383d9324218961d5ee63e54f89b",
       "version_major": 2,
       "version_minor": 0
      },
      "text/plain": [
       "Button(description='update offsets', icon='check', style=ButtonStyle(), tooltip='Click me')"
      ]
     },
     "metadata": {},
     "output_type": "display_data"
    },
    {
     "data": {
      "application/vnd.jupyter.widget-view+json": {
       "model_id": "2b107f327d2849a1913b9fbec5db6728",
       "version_major": 2,
       "version_minor": 0
      },
      "text/plain": [
       "Output()"
      ]
     },
     "metadata": {},
     "output_type": "display_data"
    }
   ],
   "source": [
    "#cross correlate signals\n",
    "\n",
    "#at each onset, take window (variable) around onset and correlate samples\n",
    "temp_offsets = []\n",
    "def corr_ex(window):\n",
    "    global temp_offsets\n",
    "    temp_offsets = [0 for k in offsets]\n",
    "    print(tts(window), len(tts(window)))\n",
    "    ref_clip = data[ref] \n",
    "    onsets = onset_times[ref]\n",
    "    onsets = onsets[np.logical_and(onsets >= tts(x_ax[0]), onsets <= tts(x_ax[1]))]\n",
    "    numonsets = len(onsets)\n",
    "    f = plt.figure(figsize = (18,16))\n",
    "    rc = np.ceil(np.sqrt(len(data)))\n",
    "    for ix in range(len(data)):\n",
    "#         corr = np.zeros((tts(window[1]-window[0]),))\n",
    "        delay = 0\n",
    "        prev_corr = 0\n",
    "        for onset in onsets:\n",
    "            ref_w = getwindow(onset, tts(0.25))\n",
    "            ww = getwindow(onset, tts(window))\n",
    "            ref_clip = data[ref][ref_w]\n",
    "            corr=np.correlate(np.abs(ref_clip),np.abs(data[ix][ww+tts(offsets[ix])]), mode=\"valid\")/numonsets + prev_corr\n",
    "            prev_corr = corr\n",
    "            delay+= stt(len(corr)/2 - np.argmax(corr))/numonsets\n",
    "        plt.subplot(rc,rc,ix+1)\n",
    "        plt.plot(corr)\n",
    "        plt.vlines(np.argmax(corr),np.min(corr),np.max(corr))\n",
    "        print(\"delay between %d and %d (ref) is %0.5f\" % (ix,ref, delay))\n",
    "        temp_offsets[ix]+=delay\n",
    "    \n",
    "window_range = widgets.FloatRangeSlider(\n",
    "    value=[-0.0625, 0.0625],\n",
    "    min=-0.25,\n",
    "    max=0.25,\n",
    "    step=0.05,\n",
    "    description='Window range:',\n",
    "    disabled=False,\n",
    "    continuous_update=True,\n",
    "    orientation='horizontal',\n",
    "    readout=True,\n",
    "    readout_format='.4f')\n",
    "\n",
    "update_btn = widgets.Button(\n",
    "    description='update offsets',\n",
    "    disabled=False,\n",
    "    button_style='', # 'success', 'info', 'warning', 'danger' or ''\n",
    "    tooltip='Click me',\n",
    "    icon='check')\n",
    "\n",
    "def update_button(*args):\n",
    "    global offsets, temp_offsets, offs\n",
    "    for ix, slider in enumerate(offs.children):\n",
    "        offsets[ix] += temp_offsets[ix]\n",
    "        slider.value = offsets[ix]\n",
    "        slider.min = slider.value-0.1\n",
    "        slider.max = slider.value+0.1\n",
    "    display(plot(True,True))\n",
    "        \n",
    "out3 = widgets.interactive_output(corr_ex, {'window':window_range})\n",
    "display(window_range,update_btn, out3)\n",
    "update_btn.on_click(update_button)"
   ]
  },
  {
   "cell_type": "code",
   "execution_count": 27,
   "metadata": {},
   "outputs": [
    {
     "name": "stdout",
     "output_type": "stream",
     "text": [
      "Offsets (ms): 0.02, 51.61, 54.08, 93.38\n",
      "Offsets (samples) [0, 2276, 2384, 4117]\n",
      "'Error' (ms): 0.01, -0.01, -0.41, -0.00\n"
     ]
    }
   ],
   "source": [
    "print(\"Offsets (ms): %.2f, %.2f, %.2f, %.2f\" % tuple([o*1e3 for o in offsets]))\n",
    "print(\"Offsets (samples)\", tts(offsets))\n",
    "print(\"'Error' (ms): %.2f, %.2f, %.2f, %.2f\" % tuple([to*1000 for to in temp_offsets]))"
   ]
  },
  {
   "cell_type": "code",
   "execution_count": null,
   "metadata": {},
   "outputs": [],
   "source": []
  }
 ],
 "metadata": {
  "kernelspec": {
   "display_name": "Python 3",
   "language": "python",
   "name": "python3"
  },
  "language_info": {
   "codemirror_mode": {
    "name": "ipython",
    "version": 3
   },
   "file_extension": ".py",
   "mimetype": "text/x-python",
   "name": "python",
   "nbconvert_exporter": "python",
   "pygments_lexer": "ipython3",
   "version": "3.7.4"
  }
 },
 "nbformat": 4,
 "nbformat_minor": 4
}
